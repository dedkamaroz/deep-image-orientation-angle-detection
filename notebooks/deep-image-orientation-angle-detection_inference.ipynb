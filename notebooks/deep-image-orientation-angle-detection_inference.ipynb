{
 "cells": [
  {
   "cell_type": "code",
   "execution_count": null,
   "id": "c1a0458b",
   "metadata": {},
   "outputs": [],
   "source": [
    "import os\n",
    "os.chdir(\"../\")"
   ]
  },
  {
   "cell_type": "code",
   "execution_count": null,
   "id": "01d24cb3",
   "metadata": {},
   "outputs": [],
   "source": [
    "import os\n",
    "os.environ[\"CUDA_VISIBLE_DEVICES\"]=\"-1\""
   ]
  },
  {
   "cell_type": "code",
   "execution_count": null,
   "id": "f5a287c6",
   "metadata": {},
   "outputs": [],
   "source": [
    "# Import libraries\n",
    "import numpy as np\n",
    "import glob\n",
    "from infer import Inference"
   ]
  },
  {
   "cell_type": "code",
   "execution_count": null,
   "id": "53238464",
   "metadata": {},
   "outputs": [],
   "source": [
    "# load model\n",
    "model = Inference()"
   ]
  },
  {
   "cell_type": "code",
   "execution_count": null,
   "id": "36f14c5a-d7fd-4dde-a7a9-cd85f4227193",
   "metadata": {},
   "outputs": [],
   "source": [
    "directory = 'result'\n",
    "result = os.path.join(directory, 'result.txt')"
   ]
  },
  {
   "cell_type": "code",
   "execution_count": null,
   "id": "f77715c6-6e5c-4f41-86ce-0c6d89f3528b",
   "metadata": {},
   "outputs": [],
   "source": [
    "# bulk prediction\n",
    "image_paths = glob.glob(\"inputs/*\")\n",
    "y_pred = np.zeros(shape=(len(image_paths), ))\n",
    "for i, path in enumerate(image_paths):\n",
    "    try:\n",
    "        y_pred[i] = model.predict(model_name=\"vit\", image_path=path, postprocess_and_save=False)\n",
    "        angle = str(y_pred[i])\n",
    "        with open(result, \"a\") as f:\n",
    "            f.write(image_paths[i] + ': ' + angle + '\\n')\n",
    "    except:\n",
    "        continue"
   ]
  }
 ],
 "metadata": {
  "kernelspec": {
   "display_name": "Python 3",
   "language": "python",
   "name": "python3"
  },
  "language_info": {
   "codemirror_mode": {
    "name": "ipython",
    "version": 3
   },
   "file_extension": ".py",
   "mimetype": "text/x-python",
   "name": "python",
   "nbconvert_exporter": "python",
   "pygments_lexer": "ipython3",
   "version": "3.8.10"
  }
 },
 "nbformat": 4,
 "nbformat_minor": 5
}
